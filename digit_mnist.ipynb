{
  "nbformat": 4,
  "nbformat_minor": 0,
  "metadata": {
    "colab": {
      "name": "test.ipynb",
      "provenance": [],
      "collapsed_sections": []
    },
    "kernelspec": {
      "name": "python3",
      "display_name": "Python 3"
    },
    "language_info": {
      "name": "python"
    }
  },
  "cells": [
    {
      "cell_type": "code",
      "source": [
        "import tensorflow as tf\n",
        "import numpy as np"
      ],
      "metadata": {
        "id": "Q46karxcXRix"
      },
      "execution_count": 18,
      "outputs": []
    },
    {
      "cell_type": "code",
      "source": [
        "# Import MNIST dataset\n",
        "mnist = tf.keras.datasets.mnist\n",
        "(x_train, y_train), (x_test, y_test) = mnist.load_data()"
      ],
      "metadata": {
        "colab": {
          "base_uri": "https://localhost:8080/"
        },
        "id": "1G4R5lhaXVSm",
        "outputId": "7f8ad3ef-f3ba-45b0-fafd-b7b417203886"
      },
      "execution_count": 19,
      "outputs": [
        {
          "output_type": "stream",
          "name": "stdout",
          "text": [
            "Downloading data from https://storage.googleapis.com/tensorflow/tf-keras-datasets/mnist.npz\n",
            "11493376/11490434 [==============================] - 0s 0us/step\n",
            "11501568/11490434 [==============================] - 0s 0us/step\n"
          ]
        }
      ]
    },
    {
      "cell_type": "code",
      "source": [
        "# Define callback to stop training when achieving 99% accuracy\n",
        "class myCallback(tf.keras.callbacks.Callback):\n",
        "  def on_epoch_end(self, epoch, logs={}):\n",
        "      if logs.get('accuracy') > 0.99:\n",
        "          print('\\nReached 99% accuracy so cancelling training!')\n",
        "          self.model.stop_training = True"
      ],
      "metadata": {
        "id": "aEjjLDYTXk8u"
      },
      "execution_count": 28,
      "outputs": []
    },
    {
      "cell_type": "code",
      "source": [
        "# Normalize data\n",
        "x_train, x_test = x_train / 255.0, x_test / 255.0"
      ],
      "metadata": {
        "id": "-h-XwCWFX3G5"
      },
      "execution_count": 21,
      "outputs": []
    },
    {
      "cell_type": "code",
      "source": [
        "# Build the classifier model\n",
        "model = tf.keras.Sequential([\n",
        "            tf.keras.layers.Flatten(input_shape=[28,28]),             # Because images are 28x28 pixels\n",
        "            tf.keras.layers.Dense(512, activation=tf.nn.relu),  \n",
        "            tf.keras.layers.Dense(10, activation=tf.nn.softmax)       # Units = 10 because there are 10 classes, activation = softmax because we're doing multi-class classification\n",
        "])"
      ],
      "metadata": {
        "id": "JVhu2xQuX72T"
      },
      "execution_count": 23,
      "outputs": []
    },
    {
      "cell_type": "code",
      "source": [
        "# Compile the model\n",
        "model.compile(optimizer=tf.optimizers.Adam(), loss='sparse_categorical_crossentropy', metrics=['accuracy'])"
      ],
      "metadata": {
        "id": "9meYeM36YUvz"
      },
      "execution_count": 24,
      "outputs": []
    },
    {
      "cell_type": "code",
      "source": [
        "callbacks = myCallback()\n",
        "# Train the model\n",
        "model.fit(x_train, y_train, epochs=20, callbacks=[callbacks])"
      ],
      "metadata": {
        "colab": {
          "base_uri": "https://localhost:8080/"
        },
        "id": "Gk095_ERYez6",
        "outputId": "08ec0593-8795-494e-83dc-38f3200c5940"
      },
      "execution_count": 29,
      "outputs": [
        {
          "output_type": "stream",
          "name": "stdout",
          "text": [
            "Epoch 1/20\n",
            "1875/1875 [==============================] - 8s 4ms/step - loss: 0.0518 - accuracy: 0.9840\n",
            "Epoch 2/20\n",
            "1875/1875 [==============================] - 8s 4ms/step - loss: 0.0375 - accuracy: 0.9879\n",
            "Epoch 3/20\n",
            "1868/1875 [============================>.] - ETA: 0s - loss: 0.0272 - accuracy: 0.9914\n",
            "Reached 99% accuracy so cancelling training!\n",
            "1875/1875 [==============================] - 10s 5ms/step - loss: 0.0272 - accuracy: 0.9914\n"
          ]
        },
        {
          "output_type": "execute_result",
          "data": {
            "text/plain": [
              "<keras.callbacks.History at 0x7f61e12c9790>"
            ]
          },
          "metadata": {},
          "execution_count": 29
        }
      ]
    },
    {
      "cell_type": "code",
      "source": [
        "model.evaluate(x_test, y_test)"
      ],
      "metadata": {
        "colab": {
          "base_uri": "https://localhost:8080/"
        },
        "id": "5l2dySh1YpH-",
        "outputId": "26a14411-c59a-4d5a-f69b-2bbc07b3f723"
      },
      "execution_count": 30,
      "outputs": [
        {
          "output_type": "stream",
          "name": "stdout",
          "text": [
            "313/313 [==============================] - 1s 3ms/step - loss: 0.0706 - accuracy: 0.9797\n"
          ]
        },
        {
          "output_type": "execute_result",
          "data": {
            "text/plain": [
              "[0.07059101015329361, 0.9797000288963318]"
            ]
          },
          "metadata": {},
          "execution_count": 30
        }
      ]
    },
    {
      "cell_type": "code",
      "source": [
        ""
      ],
      "metadata": {
        "id": "9tmqUg2dZT0K"
      },
      "execution_count": null,
      "outputs": []
    }
  ]
}